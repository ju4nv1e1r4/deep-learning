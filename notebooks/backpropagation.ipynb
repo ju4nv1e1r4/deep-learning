{
 "cells": [
  {
   "cell_type": "code",
   "execution_count": 1,
   "metadata": {},
   "outputs": [],
   "source": [
    "import numpy as np\n",
    "import matplotlib.pyplot as plt\n",
    "\n",
    "\n",
    "%matplotlib inline"
   ]
  },
  {
   "cell_type": "code",
   "execution_count": 2,
   "metadata": {},
   "outputs": [],
   "source": [
    "def forwardMultiplyGate(a, b):\n",
    "    return a*b"
   ]
  },
  {
   "cell_type": "markdown",
   "metadata": {},
   "source": [
    "### Busca Aleatória"
   ]
  },
  {
   "cell_type": "code",
   "execution_count": 3,
   "metadata": {},
   "outputs": [
    {
     "name": "stdout",
     "output_type": "stream",
     "text": [
      "-4.792384719933257 -4.974486456259668 23.83965288249377\n"
     ]
    }
   ],
   "source": [
    "x, y = -2, 3\n",
    "melhor_saida = forwardMultiplyGate(x,y)\n",
    "melhor_x, melhor_y = 0, 0\n",
    "\n",
    "for k in range(0,100):\n",
    "    x_try = 5*np.random.random() - 5\n",
    "    y_try = 5*np.random.random() - 5\n",
    "    out = forwardMultiplyGate(x_try, y_try)\n",
    "    \n",
    "    if out > melhor_saida:\n",
    "        melhor_saida = out\n",
    "        melhor_x, melhor_y = x_try, y_try\n",
    "\n",
    "print(melhor_x, melhor_y, forwardMultiplyGate(melhor_x, melhor_y))"
   ]
  },
  {
   "cell_type": "markdown",
   "metadata": {},
   "source": [
    "### Busca Aleatória Local"
   ]
  },
  {
   "cell_type": "code",
   "execution_count": 4,
   "metadata": {},
   "outputs": [
    {
     "name": "stdout",
     "output_type": "stream",
     "text": [
      "-1.9904772900360215 2.9913062144656797 -5.9541270874375565\n"
     ]
    }
   ],
   "source": [
    "x, y = -2, 3\n",
    "passo = 0.01\n",
    "melhor_saida = forwardMultiplyGate(x,y)\n",
    "melhor_x, melhor_y = 0, 0\n",
    "\n",
    "for k in range(0,100):\n",
    "    x_try = x + passo * (2*np.random.random() - 1)\n",
    "    y_try = y + passo * (2*np.random.random() - 1)  \n",
    "    out = forwardMultiplyGate(x_try, y_try)\n",
    "    \n",
    "    if out > melhor_saida:\n",
    "        melhor_saida = out\n",
    "        melhor_x, melhor_y = x_try, y_try\n",
    "\n",
    "print(melhor_x, melhor_y, forwardMultiplyGate(melhor_x, melhor_y))"
   ]
  },
  {
   "cell_type": "markdown",
   "metadata": {},
   "source": [
    "### Gradiente Numérico"
   ]
  },
  {
   "cell_type": "code",
   "execution_count": 5,
   "metadata": {},
   "outputs": [
    {
     "name": "stdout",
     "output_type": "stream",
     "text": [
      "-5.97 -6.02\n",
      "3.000000000000025 -1.9999999999999574\n"
     ]
    }
   ],
   "source": [
    "x, y = -2, 3\n",
    "out = forwardMultiplyGate(x,y)\n",
    "h = 0.01\n",
    "\n",
    "# derivada em relação a x\n",
    "out2 = forwardMultiplyGate(x + h, y) # f(x + h, y)\n",
    "deriv_x = (out2 - out) / h\n",
    "\n",
    "# derivada em relação a y\n",
    "out3 = forwardMultiplyGate(x, y + h) # f(x, y + h)\n",
    "deriv_y = (out3 - out) / h\n",
    "\n",
    "\n",
    "print(out2, out3)\n",
    "print(deriv_x, deriv_y)"
   ]
  },
  {
   "cell_type": "code",
   "execution_count": 6,
   "metadata": {},
   "outputs": [
    {
     "name": "stdout",
     "output_type": "stream",
     "text": [
      "3.9202999999999983\n"
     ]
    }
   ],
   "source": [
    "x, y = -2, 3\n",
    "passo = 0.01\n",
    "out = forwardMultiplyGate(x, y)\n",
    "x = x + passo * deriv_x\n",
    "y = x + passo * deriv_y\n",
    "new_out = forwardMultiplyGate(x, y)\n",
    "\n",
    "print(new_out)"
   ]
  },
  {
   "cell_type": "markdown",
   "metadata": {},
   "source": [
    "### Gradiente Analítico"
   ]
  },
  {
   "cell_type": "code",
   "execution_count": 7,
   "metadata": {},
   "outputs": [
    {
     "name": "stdout",
     "output_type": "stream",
     "text": [
      "-5.8706\n"
     ]
    }
   ],
   "source": [
    "x, y = -2, 3\n",
    "out = forwardMultiplyGate(x,y)\n",
    "\n",
    "deriv_x = y\n",
    "deriv_y = x\n",
    "\n",
    "passo = 0.01\n",
    "\n",
    "x = x + passo * deriv_x\n",
    "y = y + passo * deriv_y\n",
    "\n",
    "out_new = forwardMultiplyGate(x,y)\n",
    "\n",
    "print(out_new)"
   ]
  },
  {
   "cell_type": "markdown",
   "metadata": {},
   "source": [
    "### Múltiplas Portas"
   ]
  },
  {
   "cell_type": "code",
   "execution_count": 8,
   "metadata": {},
   "outputs": [
    {
     "name": "stdout",
     "output_type": "stream",
     "text": [
      "-12\n"
     ]
    }
   ],
   "source": [
    "def forwardAddGate(a, b):\n",
    "    return a + b\n",
    "\n",
    "\n",
    "def forwardCircuit(x, y, z):\n",
    "    q = forwardAddGate(x, y)\n",
    "    f = forwardMultiplyGate(q, z)\n",
    "    return f\n",
    "\n",
    "print(forwardCircuit(-2, 5, -4))"
   ]
  },
  {
   "cell_type": "markdown",
   "metadata": {},
   "source": [
    "### Regra da Cadeia"
   ]
  },
  {
   "cell_type": "code",
   "execution_count": 9,
   "metadata": {},
   "outputs": [
    {
     "name": "stdout",
     "output_type": "stream",
     "text": [
      "-4\n",
      "-4\n",
      "3\n"
     ]
    }
   ],
   "source": [
    "x, y, z = -2, 5, -4\n",
    "q = forwardAddGate(x, y)\n",
    "f = forwardMultiplyGate(q, z)\n",
    "\n",
    "# derivada da porta de multiplicão\n",
    "\n",
    "d_f_q = z\n",
    "d_f_z = q\n",
    "\n",
    "# derivada da porta de adição\n",
    "\n",
    "d_q_x = 1\n",
    "d_q_y = 1\n",
    "\n",
    "# regra da cadeia\n",
    "\n",
    "d_f_x = d_f_q * d_q_x\n",
    "d_f_y = d_f_q * d_q_y\n",
    "\n",
    "print(d_f_x)\n",
    "print(d_f_y)\n",
    "print(d_f_z)"
   ]
  },
  {
   "cell_type": "markdown",
   "metadata": {},
   "source": [
    "#### Implementando o circuito"
   ]
  },
  {
   "cell_type": "code",
   "execution_count": 10,
   "metadata": {},
   "outputs": [
    {
     "name": "stdout",
     "output_type": "stream",
     "text": [
      "-11.5924\n"
     ]
    }
   ],
   "source": [
    "grad_f_xyz = [d_f_x, d_f_y, d_f_z]\n",
    "\n",
    "passo - 0.01\n",
    "\n",
    "x = x + passo * d_f_x\n",
    "y = y + passo * d_f_y\n",
    "z = z + passo * d_f_z\n",
    "\n",
    "print(forwardCircuit(x, y, z))"
   ]
  },
  {
   "cell_type": "markdown",
   "metadata": {},
   "source": [
    "### Checagem do Gradiente Numérico"
   ]
  },
  {
   "cell_type": "code",
   "execution_count": 11,
   "metadata": {},
   "outputs": [
    {
     "name": "stdout",
     "output_type": "stream",
     "text": [
      "-3.9999999999906777\n",
      "-3.9999999999906777\n",
      "3.000000000010772\n"
     ]
    }
   ],
   "source": [
    "x, y, z = -2, 5, -4\n",
    "h = 0.0001\n",
    "\n",
    "der_x = (forwardCircuit(x + h, y, z) - forwardCircuit(x, y, z)) / h\n",
    "der_y = (forwardCircuit(x, y + h, z) - forwardCircuit(x, y, z)) / h\n",
    "der_z = (forwardCircuit(x, y, z + h) - forwardCircuit(x, y, z)) / h\n",
    "\n",
    "print(der_x)\n",
    "print(der_y)\n",
    "print(der_z)"
   ]
  },
  {
   "cell_type": "markdown",
   "metadata": {},
   "source": [
    "#### Neurônio Sigmoid\n"
   ]
  },
  {
   "cell_type": "code",
   "execution_count": 13,
   "metadata": {},
   "outputs": [
    {
     "name": "stdout",
     "output_type": "stream",
     "text": [
      "dx0: 0.3932238664829637 dx1: -0.5898357997244456\n",
      "dw0: -0.19661193324148185 dw1: -0.3932238664829637 dw2: 0.19661193324148185\n",
      "f: 0.7310585786300049 newf: 0.731792443510539\n"
     ]
    }
   ],
   "source": [
    "w0, w1, w2 = 2, -3, -3\n",
    "x0, x1 = -1, -2\n",
    "\n",
    "# forward pass\n",
    "dot = (w0*x0) + (w1*x1) + w2\n",
    "f = 1.0 / (1.0 + np.exp(-dot))\n",
    "\n",
    "# backward pass\n",
    "df = +1.0\n",
    "ddot = ((1-f)*f) * df\n",
    "\n",
    "dx0 = w0 * ddot\n",
    "dw0 = x0 * ddot\n",
    "dx1 = w1 * ddot\n",
    "dw1 = x1 * ddot\n",
    "dw2 = 1.0 * ddot\n",
    "\n",
    "print('dx0: {} dx1: {}'.format(dx0, dx1))\n",
    "print('dw0: {} dw1: {} dw2: {}'.format(dw0, dw1, dw2))\n",
    "\n",
    "# nova saida\n",
    "\n",
    "step = 0.001\n",
    "\n",
    "w0 = w0 + step*dw0\n",
    "w1 = w1 + step*dw1\n",
    "w2 = w2 + step*dw2\n",
    "x0 = x0 + step*dx0\n",
    "x1 = x1 + step*dx1\n",
    "\n",
    "new_dot = (w0*x0) + (w1*x1) + w2\n",
    "new_f = 1.0 / (1.0 + np.exp(-new_dot))\n",
    "\n",
    "print('f: {} newf: {}'.format(f, new_f))"
   ]
  },
  {
   "cell_type": "code",
   "execution_count": null,
   "metadata": {},
   "outputs": [],
   "source": []
  }
 ],
 "metadata": {
  "kernelspec": {
   "display_name": "deepenv",
   "language": "python",
   "name": "python3"
  },
  "language_info": {
   "codemirror_mode": {
    "name": "ipython",
    "version": 3
   },
   "file_extension": ".py",
   "mimetype": "text/x-python",
   "name": "python",
   "nbconvert_exporter": "python",
   "pygments_lexer": "ipython3",
   "version": "3.11.2"
  }
 },
 "nbformat": 4,
 "nbformat_minor": 2
}
