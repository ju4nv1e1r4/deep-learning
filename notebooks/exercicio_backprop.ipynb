{
 "cells": [
  {
   "cell_type": "code",
   "execution_count": 1,
   "metadata": {},
   "outputs": [],
   "source": [
    "import numpy as np"
   ]
  },
  {
   "cell_type": "markdown",
   "metadata": {},
   "source": [
    "## $f(x,y) = \\frac{x + \\sigma(y)}{\\sigma(x) + (x+y)^2}$"
   ]
  },
  {
   "cell_type": "code",
   "execution_count": 2,
   "metadata": {},
   "outputs": [
    {
     "name": "stdout",
     "output_type": "stream",
     "text": [
      "======= FORWARD PASS =======\n",
      "\n",
      "\n",
      "0.01798620996209156\n",
      "3.0179862099620918\n",
      "0.9525741268224334\n",
      "-1\n",
      "1\n",
      "1.9525741268224333\n",
      "0.5121444488396316\n",
      "1.5456448841066441\n",
      "\n",
      "\n",
      "======= BACKWARD PASS =======\n",
      "\n",
      "\n",
      "1.0\n",
      "0.5121444488396316\n",
      "3.0179862099620918\n",
      "-0.7915934472725935\n",
      "-0.7915934472725935\n",
      "-0.7915934472725935\n",
      "1.583186894545187\n",
      "2.0595697955721652\n",
      "1.583352575194314\n",
      "0.5121444488396316\n"
     ]
    }
   ],
   "source": [
    "x, y = 3, -4\n",
    "\n",
    "# FORWARD PASS\n",
    "sigy = 1.0 / (1.0 +np.exp(-y)) \n",
    "num = x + sigy \n",
    "sigx = 1.0 / (1.0 +np.exp(-x))\n",
    "xpy = x + y\n",
    "xpy_2 = xpy * xpy\n",
    "den = sigx + xpy_2\n",
    "invden = 1.0 / den\n",
    "f = num * invden\n",
    "\n",
    "print('======= FORWARD PASS =======\\n\\n')\n",
    "print(sigy, num, sigx, xpy, xpy_2, den, invden, f, sep='\\n', end='\\n\\n\\n')\n",
    "\n",
    "# BACKWARD PASS\n",
    "\n",
    "df = +1.0\n",
    "dnum = invden * df \n",
    "dinvden = num * df\n",
    "dden = (-1.0 / (den*den)) * dinvden\n",
    "dsigx = 1.0 * dden\n",
    "dxpy_2 = 1.0 * dden\n",
    "dxpy = 2.0 * xpy * dxpy_2\n",
    "dx = 1.0 * dxpy\n",
    "dy = 1.0 * dxpy\n",
    "dx += ((1.0 - sigx)*sigx) * dsigx\n",
    "dx += 1.0 * dnum\n",
    "dsigy = 1.0 * dnum\n",
    "dy += ((1.0 * sigy)*sigy) * dsigy\n",
    "\n",
    "print('======= BACKWARD PASS =======\\n\\n')\n",
    "print(df, dnum, dinvden, dden, dsigx, dxpy_2, dxpy, dx, dy, dsigy, sep='\\n')"
   ]
  }
 ],
 "metadata": {
  "kernelspec": {
   "display_name": "env",
   "language": "python",
   "name": "python3"
  },
  "language_info": {
   "codemirror_mode": {
    "name": "ipython",
    "version": 3
   },
   "file_extension": ".py",
   "mimetype": "text/x-python",
   "name": "python",
   "nbconvert_exporter": "python",
   "pygments_lexer": "ipython3",
   "version": "3.11.2"
  }
 },
 "nbformat": 4,
 "nbformat_minor": 2
}
