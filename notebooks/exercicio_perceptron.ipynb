{
 "cells": [
  {
   "cell_type": "code",
   "execution_count": 1,
   "metadata": {},
   "outputs": [],
   "source": [
    "import pandas as pd\n",
    "import numpy as np\n",
    "from random import random\n",
    "\n",
    "from sklearn.datasets import make_blobs"
   ]
  },
  {
   "cell_type": "code",
   "execution_count": 2,
   "metadata": {},
   "outputs": [
    {
     "name": "stdout",
     "output_type": "stream",
     "text": [
      "(100, 2) (100,)\n"
     ]
    }
   ],
   "source": [
    "x, y = make_blobs(n_samples=100, n_features=2, centers=2, random_state=1234)\n",
    "print(x.shape, y.shape)"
   ]
  },
  {
   "cell_type": "markdown",
   "metadata": {},
   "source": [
    "#### Numpy"
   ]
  },
  {
   "cell_type": "code",
   "execution_count": 4,
   "metadata": {},
   "outputs": [
    {
     "name": "stdout",
     "output_type": "stream",
     "text": [
      "step 0: 6\n",
      "step 10: 0\n",
      "step 20: 0\n",
      "step 30: 0\n",
      "step 40: 0\n",
      "step 50: 0\n",
      "step 60: 0\n",
      "step 70: 0\n",
      "step 80: 0\n",
      "step 90: 0\n",
      "step 100: 0\n",
      "w: [11.60380494 12.03328248]\n",
      "b: 1.4330523195768765\n",
      "y_pred: [ 56.4255788  -15.48936658 -54.03066649  82.71260734  59.44146722\n",
      " -44.05441303  50.60245272 -16.02855559  45.2304841   41.67284532\n",
      " -23.60402508  27.00195364 -52.92185166 -29.41445935 -44.03681771\n",
      " -51.01545634  60.34007246  71.87753958 -29.83176766  49.38933756\n",
      " -59.33447321  52.98271615  54.45094204  46.34996147 -31.86641282\n",
      "  48.18906463 -39.70583748  65.19748908  48.40108178  52.93517172\n",
      "  29.86091978  40.91669475 -54.79632756 -41.3265013  -48.87246933\n",
      "  54.6873467   60.95463983  33.69033371 -15.60645753 -31.49389939\n",
      " -59.7335803  -48.40946256 -43.20765979  60.25667164 -48.69093216\n",
      "  53.57709597  34.6624792   49.47447633 -32.21727893  78.60006944\n",
      "  54.59436491 -44.6216012  -65.31993112 -30.95740024 -38.45661233\n",
      "  75.63336752  63.27888083  87.91277422  51.50296698  64.4868399\n",
      "  61.72798083  -2.23279101  27.77459452  46.49702809  14.51862756\n",
      " -57.65983811 -42.13778505  51.09859246 -44.65693565  59.69837373\n",
      " -52.0071671  -32.28101888  77.68390085 -46.70252223 -32.58699621\n",
      "  40.96157572 -38.45549435  40.63336066 -30.1524039   70.99995465\n",
      " -58.2531252  -31.12223304 -37.08987888 -20.01430769  81.77141506\n",
      " -26.29927727  63.00317554 -32.96168996  45.34136217  50.95256936\n",
      "  50.08539704 -78.26260815 -44.32446515 -38.41408059 -27.35765647\n",
      " -67.57524743  44.48847774  52.97873767 -30.5741733  -20.87763406]\n"
     ]
    }
   ],
   "source": [
    "D = x.shape[1]\n",
    "w = 2*np.random.random(size=D)-1\n",
    "b = 2*np.random.random()-1\n",
    "\n",
    "learning_rate = 1.0\n",
    "for step in range(101):\n",
    "    cost = 0\n",
    "    for x_n, y_n in zip(x, y):\n",
    "        y_pred = np.dot(x_n, w) + b\n",
    "        y_pred = np.where(y_pred > 0, 1, 0)\n",
    "        error = y_n - y_pred\n",
    "        w = w + learning_rate * np.dot(error, x_n)\n",
    "        b = b + learning_rate * error\n",
    "        cost += error**2\n",
    "\n",
    "    if step % 10 == 0:\n",
    "        print('step {0}: {1}'.format(step, cost))\n",
    "\n",
    "print('w:', w)\n",
    "print('b:', b)\n",
    "print('y_pred: {0}'.format(np.dot(x, np.array(w))+b))"
   ]
  },
  {
   "cell_type": "code",
   "execution_count": null,
   "metadata": {},
   "outputs": [],
   "source": []
  }
 ],
 "metadata": {
  "kernelspec": {
   "display_name": "deepenv",
   "language": "python",
   "name": "python3"
  },
  "language_info": {
   "codemirror_mode": {
    "name": "ipython",
    "version": 3
   },
   "file_extension": ".py",
   "mimetype": "text/x-python",
   "name": "python",
   "nbconvert_exporter": "python",
   "pygments_lexer": "ipython3",
   "version": "3.11.2"
  }
 },
 "nbformat": 4,
 "nbformat_minor": 2
}
